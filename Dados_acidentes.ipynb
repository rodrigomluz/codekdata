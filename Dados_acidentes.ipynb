{
  "nbformat": 4,
  "nbformat_minor": 0,
  "metadata": {
    "colab": {
      "name": "Dados_acidentes.ipynb",
      "provenance": [],
      "collapsed_sections": [],
      "mount_file_id": "1Y-QYRjLbMIl_RJguZzk-LUrTAlt1DtUH",
      "authorship_tag": "ABX9TyOs71yar5Oc1MEQ3irWUPtx",
      "include_colab_link": true
    },
    "kernelspec": {
      "name": "python3",
      "display_name": "Python 3"
    }
  },
  "cells": [
    {
      "cell_type": "markdown",
      "metadata": {
        "id": "view-in-github",
        "colab_type": "text"
      },
      "source": [
        "<a href=\"https://colab.research.google.com/github/rodrigomluz/codekdata/blob/main/Dados_acidentes.ipynb\" target=\"_parent\"><img src=\"https://colab.research.google.com/assets/colab-badge.svg\" alt=\"Open In Colab\"/></a>"
      ]
    },
    {
      "cell_type": "markdown",
      "metadata": {
        "id": "6QewZ7OEZrIO"
      },
      "source": [
        "# **Analisando Dados de acidentes rodoviários no Brasil.**"
      ]
    },
    {
      "cell_type": "markdown",
      "metadata": {
        "id": "22xSeVEqdH59"
      },
      "source": [
        "Aqui faremos uma análise dos dados de acidentes de trânsito no Brasil em 2020, até a data de 21 de setembro de 2020, agrupados por ocorrência e disponibilizados pela Polícia Rodoviária Federal em seu site.\n",
        "\n"
      ]
    },
    {
      "cell_type": "markdown",
      "metadata": {
        "id": "Jgo9iuajaADo"
      },
      "source": [
        "Check List da análise.\n",
        "\n",
        "* Definição do Problema\n",
        "* Obtenção dos Dados\n",
        "* Exploração dos Dados\n",
        "* Preparação dos Dados\n",
        "* Modelagem\n",
        "* Avaliação\n",
        "\n"
      ]
    },
    {
      "cell_type": "code",
      "metadata": {
        "id": "Ee8ASPCn2K0t"
      },
      "source": [
        "#importando as biblitecas\n",
        "\n",
        "import pandas as pd\n",
        "import numpy as np\n",
        "import matplotlib.pyplot as plt\n",
        "import seaborn as sns\n",
        "\n",
        "\n",
        "%matplotlib inline"
      ],
      "execution_count": null,
      "outputs": []
    },
    {
      "cell_type": "markdown",
      "metadata": {
        "id": "CerC_CKmcZrk"
      },
      "source": [
        ""
      ]
    },
    {
      "cell_type": "markdown",
      "metadata": {
        "id": "HwtoW7IkeM_o"
      },
      "source": [
        "Resolvemos definir quais colunas do arquivo original seriam de melhor relevância para análise de dados. Então resolvemos apenas usar esssas 14 colunas do documento original. Fizemos também uma pequena modificação nos nomes das colunas para que ficassem com uma melhor vizualização.\n"
      ]
    },
    {
      "cell_type": "code",
      "metadata": {
        "id": "aAcjcQ0t2crs",
        "colab": {
          "base_uri": "https://localhost:8080/",
          "height": 306
        },
        "outputId": "85180ef9-6660-4d8f-cc94-6f457ab19333"
      },
      "source": [
        "#importar o arquivo csv.\n",
        "df = pd.read_csv('/content/drive/My Drive/Colab Notebooks/datatran2020.csv', encoding='cp1252', sep=';', \n",
        "                 usecols=[0, 4, 7, 8, 9, 10, 13, 14, 17, 18, 19, 20, 21, 27])\n",
        "#definir os nomes das colunas\n",
        "df.columns = ['ID', 'UF', 'Município', \n",
        "             'Causa', 'Tipo', 'Classificação', 'Condição Tempo', 'Pista', 'Vítimas', 'Mortos', 'Feridos Leves',\n",
        "              'Feridos Graves', 'Ilesos', 'Regional']\n",
        "\n",
        "#exibindo as 5 primeiras linhas do arquivo\n",
        "df.head()"
      ],
      "execution_count": null,
      "outputs": [
        {
          "output_type": "execute_result",
          "data": {
            "text/html": [
              "<div>\n",
              "<style scoped>\n",
              "    .dataframe tbody tr th:only-of-type {\n",
              "        vertical-align: middle;\n",
              "    }\n",
              "\n",
              "    .dataframe tbody tr th {\n",
              "        vertical-align: top;\n",
              "    }\n",
              "\n",
              "    .dataframe thead th {\n",
              "        text-align: right;\n",
              "    }\n",
              "</style>\n",
              "<table border=\"1\" class=\"dataframe\">\n",
              "  <thead>\n",
              "    <tr style=\"text-align: right;\">\n",
              "      <th></th>\n",
              "      <th>ID</th>\n",
              "      <th>UF</th>\n",
              "      <th>Município</th>\n",
              "      <th>Causa</th>\n",
              "      <th>Tipo</th>\n",
              "      <th>Classificação</th>\n",
              "      <th>Condição Tempo</th>\n",
              "      <th>Pista</th>\n",
              "      <th>Vítimas</th>\n",
              "      <th>Mortos</th>\n",
              "      <th>Feridos Leves</th>\n",
              "      <th>Feridos Graves</th>\n",
              "      <th>Ilesos</th>\n",
              "      <th>Regional</th>\n",
              "    </tr>\n",
              "  </thead>\n",
              "  <tbody>\n",
              "    <tr>\n",
              "      <th>0</th>\n",
              "      <td>260031.0</td>\n",
              "      <td>TO</td>\n",
              "      <td>GURUPI</td>\n",
              "      <td>Animais na Pista</td>\n",
              "      <td>Atropelamento de Animal</td>\n",
              "      <td>Com Vítimas Feridas</td>\n",
              "      <td>Nublado</td>\n",
              "      <td>Simples</td>\n",
              "      <td>5</td>\n",
              "      <td>0</td>\n",
              "      <td>0</td>\n",
              "      <td>5</td>\n",
              "      <td>0</td>\n",
              "      <td>SR-TO</td>\n",
              "    </tr>\n",
              "    <tr>\n",
              "      <th>1</th>\n",
              "      <td>260036.0</td>\n",
              "      <td>RJ</td>\n",
              "      <td>NOVA IGUACU</td>\n",
              "      <td>Falta de Atenção do Pedestre</td>\n",
              "      <td>Atropelamento de Pedestre</td>\n",
              "      <td>Com Vítimas Fatais</td>\n",
              "      <td>Céu Claro</td>\n",
              "      <td>Dupla</td>\n",
              "      <td>2</td>\n",
              "      <td>1</td>\n",
              "      <td>0</td>\n",
              "      <td>0</td>\n",
              "      <td>1</td>\n",
              "      <td>SR-RJ</td>\n",
              "    </tr>\n",
              "    <tr>\n",
              "      <th>2</th>\n",
              "      <td>260037.0</td>\n",
              "      <td>SC</td>\n",
              "      <td>SAO JOSE</td>\n",
              "      <td>Ingestão de Álcool</td>\n",
              "      <td>Colisão lateral</td>\n",
              "      <td>Com Vítimas Feridas</td>\n",
              "      <td>Nublado</td>\n",
              "      <td>Simples</td>\n",
              "      <td>2</td>\n",
              "      <td>0</td>\n",
              "      <td>1</td>\n",
              "      <td>0</td>\n",
              "      <td>1</td>\n",
              "      <td>SR-SC</td>\n",
              "    </tr>\n",
              "    <tr>\n",
              "      <th>3</th>\n",
              "      <td>260038.0</td>\n",
              "      <td>RO</td>\n",
              "      <td>CACOAL</td>\n",
              "      <td>Velocidade Incompatível</td>\n",
              "      <td>Saída de leito carroçável</td>\n",
              "      <td>Com Vítimas Feridas</td>\n",
              "      <td>Nublado</td>\n",
              "      <td>Simples</td>\n",
              "      <td>1</td>\n",
              "      <td>0</td>\n",
              "      <td>0</td>\n",
              "      <td>1</td>\n",
              "      <td>0</td>\n",
              "      <td>SR-RO</td>\n",
              "    </tr>\n",
              "    <tr>\n",
              "      <th>4</th>\n",
              "      <td>260039.0</td>\n",
              "      <td>PR</td>\n",
              "      <td>REBOUCAS</td>\n",
              "      <td>Ingestão de Álcool</td>\n",
              "      <td>Capotamento</td>\n",
              "      <td>Com Vítimas Feridas</td>\n",
              "      <td>Garoa/Chuvisco</td>\n",
              "      <td>Simples</td>\n",
              "      <td>6</td>\n",
              "      <td>0</td>\n",
              "      <td>2</td>\n",
              "      <td>4</td>\n",
              "      <td>0</td>\n",
              "      <td>SR-PR</td>\n",
              "    </tr>\n",
              "  </tbody>\n",
              "</table>\n",
              "</div>"
            ],
            "text/plain": [
              "         ID  UF    Município  ... Feridos Graves Ilesos Regional\n",
              "0  260031.0  TO       GURUPI  ...              5      0    SR-TO\n",
              "1  260036.0  RJ  NOVA IGUACU  ...              0      1    SR-RJ\n",
              "2  260037.0  SC     SAO JOSE  ...              0      1    SR-SC\n",
              "3  260038.0  RO       CACOAL  ...              1      0    SR-RO\n",
              "4  260039.0  PR     REBOUCAS  ...              4      0    SR-PR\n",
              "\n",
              "[5 rows x 14 columns]"
            ]
          },
          "metadata": {
            "tags": []
          },
          "execution_count": 85
        }
      ]
    },
    {
      "cell_type": "code",
      "metadata": {
        "id": "kr0b8pdm2udQ",
        "colab": {
          "base_uri": "https://localhost:8080/",
          "height": 297
        },
        "outputId": "9b0df14b-e783-4f5d-d8ae-96f6dcb29ac6"
      },
      "source": [
        "#descrever as colunas numéricas\n",
        "df.describe()\n"
      ],
      "execution_count": null,
      "outputs": [
        {
          "output_type": "execute_result",
          "data": {
            "text/html": [
              "<div>\n",
              "<style scoped>\n",
              "    .dataframe tbody tr th:only-of-type {\n",
              "        vertical-align: middle;\n",
              "    }\n",
              "\n",
              "    .dataframe tbody tr th {\n",
              "        vertical-align: top;\n",
              "    }\n",
              "\n",
              "    .dataframe thead th {\n",
              "        text-align: right;\n",
              "    }\n",
              "</style>\n",
              "<table border=\"1\" class=\"dataframe\">\n",
              "  <thead>\n",
              "    <tr style=\"text-align: right;\">\n",
              "      <th></th>\n",
              "      <th>ID</th>\n",
              "      <th>Vítimas</th>\n",
              "      <th>Mortos</th>\n",
              "      <th>Feridos Leves</th>\n",
              "      <th>Feridos Graves</th>\n",
              "      <th>Ilesos</th>\n",
              "    </tr>\n",
              "  </thead>\n",
              "  <tbody>\n",
              "    <tr>\n",
              "      <th>count</th>\n",
              "      <td>39709.000000</td>\n",
              "      <td>39709.000000</td>\n",
              "      <td>39709.000000</td>\n",
              "      <td>39709.000000</td>\n",
              "      <td>39709.000000</td>\n",
              "      <td>39709.000000</td>\n",
              "    </tr>\n",
              "    <tr>\n",
              "      <th>mean</th>\n",
              "      <td>282852.412627</td>\n",
              "      <td>2.298446</td>\n",
              "      <td>0.080360</td>\n",
              "      <td>0.854391</td>\n",
              "      <td>0.259689</td>\n",
              "      <td>0.948752</td>\n",
              "    </tr>\n",
              "    <tr>\n",
              "      <th>std</th>\n",
              "      <td>13030.443256</td>\n",
              "      <td>1.729549</td>\n",
              "      <td>0.327178</td>\n",
              "      <td>1.025367</td>\n",
              "      <td>0.584074</td>\n",
              "      <td>1.350419</td>\n",
              "    </tr>\n",
              "    <tr>\n",
              "      <th>min</th>\n",
              "      <td>260031.000000</td>\n",
              "      <td>1.000000</td>\n",
              "      <td>0.000000</td>\n",
              "      <td>0.000000</td>\n",
              "      <td>0.000000</td>\n",
              "      <td>0.000000</td>\n",
              "    </tr>\n",
              "    <tr>\n",
              "      <th>25%</th>\n",
              "      <td>271616.000000</td>\n",
              "      <td>1.000000</td>\n",
              "      <td>0.000000</td>\n",
              "      <td>0.000000</td>\n",
              "      <td>0.000000</td>\n",
              "      <td>0.000000</td>\n",
              "    </tr>\n",
              "    <tr>\n",
              "      <th>50%</th>\n",
              "      <td>282905.000000</td>\n",
              "      <td>2.000000</td>\n",
              "      <td>0.000000</td>\n",
              "      <td>1.000000</td>\n",
              "      <td>0.000000</td>\n",
              "      <td>1.000000</td>\n",
              "    </tr>\n",
              "    <tr>\n",
              "      <th>75%</th>\n",
              "      <td>294184.000000</td>\n",
              "      <td>3.000000</td>\n",
              "      <td>0.000000</td>\n",
              "      <td>1.000000</td>\n",
              "      <td>0.000000</td>\n",
              "      <td>1.000000</td>\n",
              "    </tr>\n",
              "    <tr>\n",
              "      <th>max</th>\n",
              "      <td>309103.000000</td>\n",
              "      <td>73.000000</td>\n",
              "      <td>11.000000</td>\n",
              "      <td>42.000000</td>\n",
              "      <td>17.000000</td>\n",
              "      <td>73.000000</td>\n",
              "    </tr>\n",
              "  </tbody>\n",
              "</table>\n",
              "</div>"
            ],
            "text/plain": [
              "                  ID       Vítimas  ...  Feridos Graves        Ilesos\n",
              "count   39709.000000  39709.000000  ...    39709.000000  39709.000000\n",
              "mean   282852.412627      2.298446  ...        0.259689      0.948752\n",
              "std     13030.443256      1.729549  ...        0.584074      1.350419\n",
              "min    260031.000000      1.000000  ...        0.000000      0.000000\n",
              "25%    271616.000000      1.000000  ...        0.000000      0.000000\n",
              "50%    282905.000000      2.000000  ...        0.000000      1.000000\n",
              "75%    294184.000000      3.000000  ...        0.000000      1.000000\n",
              "max    309103.000000     73.000000  ...       17.000000     73.000000\n",
              "\n",
              "[8 rows x 6 columns]"
            ]
          },
          "metadata": {
            "tags": []
          },
          "execution_count": 86
        }
      ]
    },
    {
      "cell_type": "markdown",
      "metadata": {
        "id": "Ki45YXoafEOo"
      },
      "source": [
        ""
      ]
    },
    {
      "cell_type": "code",
      "metadata": {
        "id": "zc8dGz4I_Hgk",
        "colab": {
          "base_uri": "https://localhost:8080/",
          "height": 289
        },
        "outputId": "5efa298b-5766-499a-c4d6-e7756c9edffb"
      },
      "source": [
        "#mostra todas as causas de acidentes possiveis listadas\n",
        "df['Causa'].unique()"
      ],
      "execution_count": null,
      "outputs": [
        {
          "output_type": "execute_result",
          "data": {
            "text/plain": [
              "array(['Animais na Pista', 'Falta de Atenção do Pedestre',\n",
              "       'Ingestão de Álcool', 'Velocidade Incompatível',\n",
              "       'Falta de Atenção à Condução',\n",
              "       'Desobediência às normas de trânsito pelo condutor',\n",
              "       'Condutor Dormindo', 'Pista Escorregadia', 'Mal Súbito',\n",
              "       'Avarias e/ou desgaste excessivo no pneu',\n",
              "       'Não guardar distância de segurança',\n",
              "       'Deficiência ou não Acionamento do Sistema de Iluminação/Sinalização do Veículo',\n",
              "       'Ingestão de álcool e/ou substâncias psicoativas pelo pedestre',\n",
              "       'Defeito Mecânico no Veículo', 'Ultrapassagem Indevida',\n",
              "       'Defeito na Via', 'Ingestão de Substâncias Psicoativas',\n",
              "       'Sinalização da via insuficiente ou inadequada',\n",
              "       'Objeto estático sobre o leito carroçável', 'Agressão Externa',\n",
              "       'Fenômenos da Natureza', 'Restrição de Visibilidade',\n",
              "       'Desobediência às normas de trânsito pelo pedestre',\n",
              "       'Carga excessiva e/ou mal acondicionada'], dtype=object)"
            ]
          },
          "metadata": {
            "tags": []
          },
          "execution_count": 87
        }
      ]
    },
    {
      "cell_type": "markdown",
      "metadata": {
        "id": "uGnjT2JQfrjK"
      },
      "source": [
        "Logo podemos perceber que o maior causador de acidentes é a 'Falta de atenção à condução' com 13811 casos em todo território brasileiro. Como estamos apenas analisando dados de alguns meses do ano de 2020 não temos um comparativo com outros anos. Portanto não dá pra saber se por motivo das políticas de não ingestão de bebidas alcoólicas, a causa 'Ingestão de Álcool' aumentou ou não por estar em 4ª nas causas de acidentes."
      ]
    },
    {
      "cell_type": "code",
      "metadata": {
        "id": "8ebyu8DvAFwy",
        "colab": {
          "base_uri": "https://localhost:8080/",
          "height": 442
        },
        "outputId": "a994f045-a2ca-4085-ad1e-58e613353b2f"
      },
      "source": [
        "#quantidades de acidentes por causas.\n",
        "df['Causa'].value_counts()"
      ],
      "execution_count": null,
      "outputs": [
        {
          "output_type": "execute_result",
          "data": {
            "text/plain": [
              "Falta de Atenção à Condução                                                       13811\n",
              "Desobediência às normas de trânsito pelo condutor                                  5392\n",
              "Velocidade Incompatível                                                            3709\n",
              "Ingestão de Álcool                                                                 3237\n",
              "Defeito Mecânico no Veículo                                                        2384\n",
              "Não guardar distância de segurança                                                 2165\n",
              "Condutor Dormindo                                                                  1324\n",
              "Pista Escorregadia                                                                 1303\n",
              "Falta de Atenção do Pedestre                                                       1079\n",
              "Animais na Pista                                                                    945\n",
              "Defeito na Via                                                                      711\n",
              "Ultrapassagem Indevida                                                              671\n",
              "Avarias e/ou desgaste excessivo no pneu                                             576\n",
              "Mal Súbito                                                                          394\n",
              "Restrição de Visibilidade                                                           345\n",
              "Objeto estático sobre o leito carroçável                                            277\n",
              "Desobediência às normas de trânsito pelo pedestre                                   246\n",
              "Carga excessiva e/ou mal acondicionada                                              233\n",
              "Ingestão de álcool e/ou substâncias psicoativas pelo pedestre                       224\n",
              "Agressão Externa                                                                    224\n",
              "Sinalização da via insuficiente ou inadequada                                       153\n",
              "Fenômenos da Natureza                                                               133\n",
              "Deficiência ou não Acionamento do Sistema de Iluminação/Sinalização do Veículo      120\n",
              "Ingestão de Substâncias Psicoativas                                                  53\n",
              "Name: Causa, dtype: int64"
            ]
          },
          "metadata": {
            "tags": []
          },
          "execution_count": 88
        }
      ]
    },
    {
      "cell_type": "code",
      "metadata": {
        "id": "TSgLrbYokfnS",
        "colab": {
          "base_uri": "https://localhost:8080/",
          "height": 265
        },
        "outputId": "a7d2e4b4-a3d7-446c-ee9f-b2439bfb1f0d"
      },
      "source": [
        "#plotar em um gráfico a quantidades de acidentes por causas.\n",
        "df['Causa'].value_counts().plot.barh();"
      ],
      "execution_count": null,
      "outputs": [
        {
          "output_type": "display_data",
          "data": {
            "image/png": "[encoded data removed]",
            "text/plain": [
              "<Figure size 432x288 with 1 Axes>"
            ]
          },
          "metadata": {
            "tags": [],
            "needs_background": "light"
          }
        }
      ]
    },
    {
      "cell_type": "code",
      "metadata": {
        "id": "R_eK5LBuBLL6",
        "colab": {
          "base_uri": "https://localhost:8080/",
          "height": 493
        },
        "outputId": "14ec0ada-6974-432f-e2d5-016501b71a12"
      },
      "source": [
        "#quantidades de acidentes por região.\n",
        "df['UF'].value_counts()"
      ],
      "execution_count": null,
      "outputs": [
        {
          "output_type": "execute_result",
          "data": {
            "text/plain": [
              "MG    5146\n",
              "SC    4658\n",
              "PR    4547\n",
              "RS    2712\n",
              "RJ    2590\n",
              "SP    2490\n",
              "BA    2132\n",
              "GO    2022\n",
              "PE    1589\n",
              "ES    1559\n",
              "MT    1373\n",
              "RO     989\n",
              "CE     944\n",
              "MS     933\n",
              "PB     877\n",
              "RN     804\n",
              "PI     715\n",
              "MA     680\n",
              "DF     673\n",
              "PA     621\n",
              "AL     401\n",
              "SE     372\n",
              "TO     360\n",
              "AC     190\n",
              "RR     160\n",
              "AM      86\n",
              "AP      86\n",
              "Name: UF, dtype: int64"
            ]
          },
          "metadata": {
            "tags": []
          },
          "execution_count": 90
        }
      ]
    },
    {
      "cell_type": "code",
      "metadata": {
        "id": "auP7zQt0IdKX",
        "colab": {
          "base_uri": "https://localhost:8080/",
          "height": 265
        },
        "outputId": "853edb74-bf0a-4b75-b84e-7a23ebee91cd"
      },
      "source": [
        "#plotando o gráfico de acidentes por região\n",
        "\n",
        "df['UF'].value_counts().plot();"
      ],
      "execution_count": null,
      "outputs": [
        {
          "output_type": "display_data",
          "data": {
            "image/png": "[encoded data removed]",
            "text/plain": [
              "<Figure size 432x288 with 1 Axes>"
            ]
          },
          "metadata": {
            "tags": [],
            "needs_background": "light"
          }
        }
      ]
    },
    {
      "cell_type": "code",
      "metadata": {
        "id": "sTS4f8-4CKPV",
        "colab": {
          "base_uri": "https://localhost:8080/",
          "height": 272
        },
        "outputId": "c3ef7c34-a2c4-4409-e068-bd7d14b2e0ea"
      },
      "source": [
        "#tipos de cada coluna\n",
        "df.dtypes"
      ],
      "execution_count": null,
      "outputs": [
        {
          "output_type": "execute_result",
          "data": {
            "text/plain": [
              "ID                float64\n",
              "UF                 object\n",
              "Município          object\n",
              "Causa              object\n",
              "Tipo               object\n",
              "Classificação      object\n",
              "Condição Tempo     object\n",
              "Pista              object\n",
              "Vítimas             int64\n",
              "Mortos              int64\n",
              "Feridos Leves       int64\n",
              "Feridos Graves      int64\n",
              "Ilesos              int64\n",
              "Regional           object\n",
              "dtype: object"
            ]
          },
          "metadata": {
            "tags": []
          },
          "execution_count": 92
        }
      ]
    },
    {
      "cell_type": "code",
      "metadata": {
        "id": "u2UvxYE8CqEq",
        "colab": {
          "base_uri": "https://localhost:8080/",
          "height": 221
        },
        "outputId": "d0fe6842-5500-42ec-ab27-135f51cfb3a7"
      },
      "source": [
        "#quantidades de acidentes por municipios.\n",
        "df['Município'].value_counts()\n",
        "\n"
      ],
      "execution_count": null,
      "outputs": [
        {
          "output_type": "execute_result",
          "data": {
            "text/plain": [
              "BRASILIA                   673\n",
              "CURITIBA                   623\n",
              "SAO JOSE                   393\n",
              "GUARULHOS                  387\n",
              "PALHOCA                    380\n",
              "                          ... \n",
              "GUAPIRAMA                    1\n",
              "BREJAO                       1\n",
              "RIBEIRAO DO SUL              1\n",
              "RUBELITA                     1\n",
              "FORTALEZA DOS NOGUEIRAS      1\n",
              "Name: Município, Length: 1692, dtype: int64"
            ]
          },
          "metadata": {
            "tags": []
          },
          "execution_count": 93
        }
      ]
    },
    {
      "cell_type": "code",
      "metadata": {
        "id": "_EbHL1OTHuFK",
        "colab": {
          "base_uri": "https://localhost:8080/",
          "height": 85
        },
        "outputId": "394edb92-c003-426c-f97f-06f6e6695c4d"
      },
      "source": [
        "print('Nesses 9 primeiros meses de 2020\\n')\n",
        "\n",
        "media = df['Município'].value_counts().median()\n",
        "print('A média de acidentes por municípios foi de: {:.0f} acidentes'.format(media))\n",
        "\n",
        "media_uf = df['UF'].value_counts().median()\n",
        "print('A média de acidentes por UF foi de: {:.0f} acidentes'.format(media_uf))\n"
      ],
      "execution_count": null,
      "outputs": [
        {
          "output_type": "stream",
          "text": [
            "Nesses 9 primeiros meses de 2020\n",
            "\n",
            "A média de acidentes por municípios foi de: 10 acidentes\n",
            "A média de acidentes por UF foi de: 933 acidentes\n"
          ],
          "name": "stdout"
        }
      ]
    },
    {
      "cell_type": "code",
      "metadata": {
        "id": "RkodsP3yFBr1",
        "colab": {
          "base_uri": "https://localhost:8080/",
          "height": 187
        },
        "outputId": "335374fe-010a-4849-8e81-1099b54b4274"
      },
      "source": [
        "\n",
        "df['Mortos'].value_counts()\n"
      ],
      "execution_count": null,
      "outputs": [
        {
          "output_type": "execute_result",
          "data": {
            "text/plain": [
              "0     36955\n",
              "1      2444\n",
              "2       228\n",
              "3        56\n",
              "4        18\n",
              "5         5\n",
              "11        1\n",
              "8         1\n",
              "7         1\n",
              "Name: Mortos, dtype: int64"
            ]
          },
          "metadata": {
            "tags": []
          },
          "execution_count": 95
        }
      ]
    },
    {
      "cell_type": "code",
      "metadata": {
        "id": "SdbPejmolDc5",
        "colab": {
          "base_uri": "https://localhost:8080/",
          "height": 272
        },
        "outputId": "b2c47fe5-f8c7-4906-9f24-f587e240eca5"
      },
      "source": [
        "df[df['Causa'].str.contains('Condutor Dormindo')].count()"
      ],
      "execution_count": null,
      "outputs": [
        {
          "output_type": "execute_result",
          "data": {
            "text/plain": [
              "ID                1324\n",
              "UF                1324\n",
              "Município         1324\n",
              "Causa             1324\n",
              "Tipo              1324\n",
              "Classificação     1324\n",
              "Condição Tempo    1324\n",
              "Pista             1324\n",
              "Vítimas           1324\n",
              "Mortos            1324\n",
              "Feridos Leves     1324\n",
              "Feridos Graves    1324\n",
              "Ilesos            1324\n",
              "Regional          1324\n",
              "dtype: int64"
            ]
          },
          "metadata": {
            "tags": []
          },
          "execution_count": 96
        }
      ]
    },
    {
      "cell_type": "code",
      "metadata": {
        "id": "zYUoYSxVl5W0",
        "colab": {
          "base_uri": "https://localhost:8080/",
          "height": 606
        },
        "outputId": "911afc0b-1ad9-42ed-e3a6-4a357a464fe0"
      },
      "source": [
        "#Dividir o Dtaframe original apenas pelo Condutor Dormindo\n",
        "df_condutor_dormindo = df[df['Causa'] == 'Condutor Dormindo']\n",
        "\n",
        "df_condutor_dormindo"
      ],
      "execution_count": null,
      "outputs": [
        {
          "output_type": "execute_result",
          "data": {
            "text/html": [
              "<div>\n",
              "<style scoped>\n",
              "    .dataframe tbody tr th:only-of-type {\n",
              "        vertical-align: middle;\n",
              "    }\n",
              "\n",
              "    .dataframe tbody tr th {\n",
              "        vertical-align: top;\n",
              "    }\n",
              "\n",
              "    .dataframe thead th {\n",
              "        text-align: right;\n",
              "    }\n",
              "</style>\n",
              "<table border=\"1\" class=\"dataframe\">\n",
              "  <thead>\n",
              "    <tr style=\"text-align: right;\">\n",
              "      <th></th>\n",
              "      <th>ID</th>\n",
              "      <th>UF</th>\n",
              "      <th>Município</th>\n",
              "      <th>Causa</th>\n",
              "      <th>Tipo</th>\n",
              "      <th>Classificação</th>\n",
              "      <th>Condição Tempo</th>\n",
              "      <th>Pista</th>\n",
              "      <th>Vítimas</th>\n",
              "      <th>Mortos</th>\n",
              "      <th>Feridos Leves</th>\n",
              "      <th>Feridos Graves</th>\n",
              "      <th>Ilesos</th>\n",
              "      <th>Regional</th>\n",
              "    </tr>\n",
              "  </thead>\n",
              "  <tbody>\n",
              "    <tr>\n",
              "      <th>10</th>\n",
              "      <td>260045.0</td>\n",
              "      <td>SC</td>\n",
              "      <td>IBIRAMA</td>\n",
              "      <td>Condutor Dormindo</td>\n",
              "      <td>Colisão frontal</td>\n",
              "      <td>Com Vítimas Feridas</td>\n",
              "      <td>Nublado</td>\n",
              "      <td>Simples</td>\n",
              "      <td>4</td>\n",
              "      <td>0</td>\n",
              "      <td>2</td>\n",
              "      <td>2</td>\n",
              "      <td>0</td>\n",
              "      <td>SR-SC</td>\n",
              "    </tr>\n",
              "    <tr>\n",
              "      <th>23</th>\n",
              "      <td>260065.0</td>\n",
              "      <td>PR</td>\n",
              "      <td>IPIRANGA</td>\n",
              "      <td>Condutor Dormindo</td>\n",
              "      <td>Colisão com objeto estático</td>\n",
              "      <td>Com Vítimas Feridas</td>\n",
              "      <td>Céu Claro</td>\n",
              "      <td>Simples</td>\n",
              "      <td>4</td>\n",
              "      <td>0</td>\n",
              "      <td>2</td>\n",
              "      <td>2</td>\n",
              "      <td>0</td>\n",
              "      <td>SR-PR</td>\n",
              "    </tr>\n",
              "    <tr>\n",
              "      <th>32</th>\n",
              "      <td>260075.0</td>\n",
              "      <td>MG</td>\n",
              "      <td>RIO MANSO</td>\n",
              "      <td>Condutor Dormindo</td>\n",
              "      <td>Capotamento</td>\n",
              "      <td>Sem Vítimas</td>\n",
              "      <td>Céu Claro</td>\n",
              "      <td>Dupla</td>\n",
              "      <td>1</td>\n",
              "      <td>0</td>\n",
              "      <td>0</td>\n",
              "      <td>0</td>\n",
              "      <td>1</td>\n",
              "      <td>SR-MG</td>\n",
              "    </tr>\n",
              "    <tr>\n",
              "      <th>39</th>\n",
              "      <td>260084.0</td>\n",
              "      <td>RJ</td>\n",
              "      <td>ANGRA DOS REIS</td>\n",
              "      <td>Condutor Dormindo</td>\n",
              "      <td>Colisão frontal</td>\n",
              "      <td>Com Vítimas Feridas</td>\n",
              "      <td>Céu Claro</td>\n",
              "      <td>Simples</td>\n",
              "      <td>7</td>\n",
              "      <td>0</td>\n",
              "      <td>4</td>\n",
              "      <td>0</td>\n",
              "      <td>3</td>\n",
              "      <td>SR-RJ</td>\n",
              "    </tr>\n",
              "    <tr>\n",
              "      <th>40</th>\n",
              "      <td>260085.0</td>\n",
              "      <td>RS</td>\n",
              "      <td>BARRACAO</td>\n",
              "      <td>Condutor Dormindo</td>\n",
              "      <td>Saída de leito carroçável</td>\n",
              "      <td>Sem Vítimas</td>\n",
              "      <td>Céu Claro</td>\n",
              "      <td>Simples</td>\n",
              "      <td>1</td>\n",
              "      <td>0</td>\n",
              "      <td>0</td>\n",
              "      <td>0</td>\n",
              "      <td>0</td>\n",
              "      <td>SR-RS</td>\n",
              "    </tr>\n",
              "    <tr>\n",
              "      <th>...</th>\n",
              "      <td>...</td>\n",
              "      <td>...</td>\n",
              "      <td>...</td>\n",
              "      <td>...</td>\n",
              "      <td>...</td>\n",
              "      <td>...</td>\n",
              "      <td>...</td>\n",
              "      <td>...</td>\n",
              "      <td>...</td>\n",
              "      <td>...</td>\n",
              "      <td>...</td>\n",
              "      <td>...</td>\n",
              "      <td>...</td>\n",
              "      <td>...</td>\n",
              "    </tr>\n",
              "    <tr>\n",
              "      <th>39438</th>\n",
              "      <td>304832.0</td>\n",
              "      <td>BA</td>\n",
              "      <td>SAO SEBASTIAO DO PASSE</td>\n",
              "      <td>Condutor Dormindo</td>\n",
              "      <td>Saída de leito carroçável</td>\n",
              "      <td>Com Vítimas Feridas</td>\n",
              "      <td>Céu Claro</td>\n",
              "      <td>Dupla</td>\n",
              "      <td>5</td>\n",
              "      <td>0</td>\n",
              "      <td>4</td>\n",
              "      <td>0</td>\n",
              "      <td>1</td>\n",
              "      <td>SR-BA</td>\n",
              "    </tr>\n",
              "    <tr>\n",
              "      <th>39514</th>\n",
              "      <td>304912.0</td>\n",
              "      <td>MG</td>\n",
              "      <td>CAETE</td>\n",
              "      <td>Condutor Dormindo</td>\n",
              "      <td>Colisão traseira</td>\n",
              "      <td>Com Vítimas Feridas</td>\n",
              "      <td>Céu Claro</td>\n",
              "      <td>Dupla</td>\n",
              "      <td>2</td>\n",
              "      <td>0</td>\n",
              "      <td>1</td>\n",
              "      <td>0</td>\n",
              "      <td>1</td>\n",
              "      <td>SR-MG</td>\n",
              "    </tr>\n",
              "    <tr>\n",
              "      <th>39600</th>\n",
              "      <td>306669.0</td>\n",
              "      <td>MT</td>\n",
              "      <td>PEDRA PRETA</td>\n",
              "      <td>Condutor Dormindo</td>\n",
              "      <td>Saída de leito carroçável</td>\n",
              "      <td>Com Vítimas Fatais</td>\n",
              "      <td>Céu Claro</td>\n",
              "      <td>Simples</td>\n",
              "      <td>1</td>\n",
              "      <td>1</td>\n",
              "      <td>0</td>\n",
              "      <td>0</td>\n",
              "      <td>0</td>\n",
              "      <td>SR-MT</td>\n",
              "    </tr>\n",
              "    <tr>\n",
              "      <th>39636</th>\n",
              "      <td>307148.0</td>\n",
              "      <td>MT</td>\n",
              "      <td>SINOP</td>\n",
              "      <td>Condutor Dormindo</td>\n",
              "      <td>Colisão lateral</td>\n",
              "      <td>Com Vítimas Fatais</td>\n",
              "      <td>Céu Claro</td>\n",
              "      <td>Simples</td>\n",
              "      <td>4</td>\n",
              "      <td>1</td>\n",
              "      <td>0</td>\n",
              "      <td>0</td>\n",
              "      <td>3</td>\n",
              "      <td>SR-MT</td>\n",
              "    </tr>\n",
              "    <tr>\n",
              "      <th>39686</th>\n",
              "      <td>308418.0</td>\n",
              "      <td>RJ</td>\n",
              "      <td>RESENDE</td>\n",
              "      <td>Condutor Dormindo</td>\n",
              "      <td>Colisão traseira</td>\n",
              "      <td>Com Vítimas Feridas</td>\n",
              "      <td>Céu Claro</td>\n",
              "      <td>Dupla</td>\n",
              "      <td>2</td>\n",
              "      <td>0</td>\n",
              "      <td>0</td>\n",
              "      <td>1</td>\n",
              "      <td>1</td>\n",
              "      <td>SR-RJ</td>\n",
              "    </tr>\n",
              "  </tbody>\n",
              "</table>\n",
              "<p>1324 rows × 14 columns</p>\n",
              "</div>"
            ],
            "text/plain": [
              "             ID  UF               Município  ... Feridos Graves Ilesos Regional\n",
              "10     260045.0  SC                 IBIRAMA  ...              2      0    SR-SC\n",
              "23     260065.0  PR                IPIRANGA  ...              2      0    SR-PR\n",
              "32     260075.0  MG               RIO MANSO  ...              0      1    SR-MG\n",
              "39     260084.0  RJ          ANGRA DOS REIS  ...              0      3    SR-RJ\n",
              "40     260085.0  RS                BARRACAO  ...              0      0    SR-RS\n",
              "...         ...  ..                     ...  ...            ...    ...      ...\n",
              "39438  304832.0  BA  SAO SEBASTIAO DO PASSE  ...              0      1    SR-BA\n",
              "39514  304912.0  MG                   CAETE  ...              0      1    SR-MG\n",
              "39600  306669.0  MT             PEDRA PRETA  ...              0      0    SR-MT\n",
              "39636  307148.0  MT                   SINOP  ...              0      3    SR-MT\n",
              "39686  308418.0  RJ                 RESENDE  ...              1      1    SR-RJ\n",
              "\n",
              "[1324 rows x 14 columns]"
            ]
          },
          "metadata": {
            "tags": []
          },
          "execution_count": 97
        }
      ]
    },
    {
      "cell_type": "code",
      "metadata": {
        "id": "LFyRk9xxooC8",
        "colab": {
          "base_uri": "https://localhost:8080/",
          "height": 85
        },
        "outputId": "5a9b9245-3864-46d1-a792-d81615e39b13"
      },
      "source": [
        "#número de vitimas envolvidas por acidentes em que o condutor dormiu ao volante.\n",
        "\n",
        "df_condutor_dormindo['Classificação'].value_counts()"
      ],
      "execution_count": null,
      "outputs": [
        {
          "output_type": "execute_result",
          "data": {
            "text/plain": [
              "Com Vítimas Feridas    1002\n",
              "Sem Vítimas             206\n",
              "Com Vítimas Fatais      116\n",
              "Name: Classificação, dtype: int64"
            ]
          },
          "metadata": {
            "tags": []
          },
          "execution_count": 98
        }
      ]
    },
    {
      "cell_type": "markdown",
      "metadata": {
        "id": "p57o0WxFqZAY"
      },
      "source": [
        "\n",
        "# Santa catarina foi a cidade com maior quantidade de causa de acidentes por Falta de atenção à condução, com um total de 1792.\n"
      ]
    },
    {
      "cell_type": "code",
      "metadata": {
        "id": "RStn-1-wmbQz",
        "colab": {
          "base_uri": "https://localhost:8080/",
          "height": 493
        },
        "outputId": "0730aaba-d66a-43e5-9e56-6489bdb6bbe9"
      },
      "source": [
        "#Dividir o Dtaframe original apenas pela Falta de Antenção à Condução\n",
        "\n",
        "df_falta_atencao = df[df['Causa'] == 'Falta de Atenção à Condução']\n",
        "\n",
        "#quantidades de acidentes por falta de atenção por estados.\n",
        "df_falta_atencao['UF'].value_counts()\n"
      ],
      "execution_count": null,
      "outputs": [
        {
          "output_type": "execute_result",
          "data": {
            "text/plain": [
              "SC    1792\n",
              "PR    1709\n",
              "MG    1608\n",
              "RJ    1000\n",
              "SP     932\n",
              "RS     918\n",
              "BA     687\n",
              "GO     682\n",
              "ES     634\n",
              "MT     520\n",
              "PE     505\n",
              "MS     307\n",
              "RO     306\n",
              "CE     296\n",
              "DF     262\n",
              "RN     245\n",
              "PB     237\n",
              "PI     231\n",
              "MA     199\n",
              "PA     175\n",
              "AL     158\n",
              "TO     113\n",
              "SE     109\n",
              "AC      72\n",
              "RR      56\n",
              "AP      30\n",
              "AM      28\n",
              "Name: UF, dtype: int64"
            ]
          },
          "metadata": {
            "tags": []
          },
          "execution_count": 99
        }
      ]
    },
    {
      "cell_type": "code",
      "metadata": {
        "id": "GGma3dkrpJqH",
        "colab": {
          "base_uri": "https://localhost:8080/",
          "height": 85
        },
        "outputId": "c9032555-b882-41c1-fc6c-2d63d8a9147b"
      },
      "source": [
        "df_falta_atencao['Classificação'].value_counts()\n"
      ],
      "execution_count": null,
      "outputs": [
        {
          "output_type": "execute_result",
          "data": {
            "text/plain": [
              "Com Vítimas Feridas    11051\n",
              "Sem Vítimas             2101\n",
              "Com Vítimas Fatais       659\n",
              "Name: Classificação, dtype: int64"
            ]
          },
          "metadata": {
            "tags": []
          },
          "execution_count": 100
        }
      ]
    },
    {
      "cell_type": "code",
      "metadata": {
        "id": "sjQSxMIJpZVo",
        "colab": {
          "base_uri": "https://localhost:8080/",
          "height": 281
        },
        "outputId": "9a9234fe-34df-41f8-d052-18bb22b1d8fc"
      },
      "source": [
        "df_ingestao_alcool=df[df['Causa'] == 'Ingestão de Álcool']\n",
        "df_ingestao_alcool['Classificação'].value_counts().plot.barh(color=['green','blue','red'], title='Quantidade de Vitimas quando o motorista fez ingestão de bebidas alcoólicas');"
      ],
      "execution_count": null,
      "outputs": [
        {
          "output_type": "display_data",
          "data": {
            "image/png": "[encoded data removed]",
            "text/plain": [
              "<Figure size 432x288 with 1 Axes>"
            ]
          },
          "metadata": {
            "tags": [],
            "needs_background": "light"
          }
        }
      ]
    },
    {
      "cell_type": "code",
      "metadata": {
        "id": "ldu-glvgCNRS",
        "colab": {
          "base_uri": "https://localhost:8080/",
          "height": 607
        },
        "outputId": "bf46b239-9dfc-48ff-dfd7-522c9eb57a8c"
      },
      "source": [
        "df.hist(figsize=(12,10));"
      ],
      "execution_count": null,
      "outputs": [
        {
          "output_type": "display_data",
          "data": {
            "image/png": "[encoded data removed]",
            "text/plain": [
              "<Figure size 864x720 with 6 Axes>"
            ]
          },
          "metadata": {
            "tags": [],
            "needs_background": "light"
          }
        }
      ]
    },
    {
      "cell_type": "code",
      "metadata": {
        "id": "iWzqYKjmGoZV",
        "colab": {
          "base_uri": "https://localhost:8080/",
          "height": 824
        },
        "outputId": "08798a12-81f9-4d46-c5ba-fd42239b1c15"
      },
      "source": [
        "# Analisar a probabilidade de mortes por Causa\n",
        "\n",
        "df[['Causa', 'Mortos']].groupby(['Causa']).mean()*100\n"
      ],
      "execution_count": null,
      "outputs": [
        {
          "output_type": "execute_result",
          "data": {
            "text/html": [
              "<div>\n",
              "<style scoped>\n",
              "    .dataframe tbody tr th:only-of-type {\n",
              "        vertical-align: middle;\n",
              "    }\n",
              "\n",
              "    .dataframe tbody tr th {\n",
              "        vertical-align: top;\n",
              "    }\n",
              "\n",
              "    .dataframe thead th {\n",
              "        text-align: right;\n",
              "    }\n",
              "</style>\n",
              "<table border=\"1\" class=\"dataframe\">\n",
              "  <thead>\n",
              "    <tr style=\"text-align: right;\">\n",
              "      <th></th>\n",
              "      <th>Mortos</th>\n",
              "    </tr>\n",
              "    <tr>\n",
              "      <th>Causa</th>\n",
              "      <th></th>\n",
              "    </tr>\n",
              "  </thead>\n",
              "  <tbody>\n",
              "    <tr>\n",
              "      <th>Agressão Externa</th>\n",
              "      <td>4.464286</td>\n",
              "    </tr>\n",
              "    <tr>\n",
              "      <th>Animais na Pista</th>\n",
              "      <td>5.396825</td>\n",
              "    </tr>\n",
              "    <tr>\n",
              "      <th>Avarias e/ou desgaste excessivo no pneu</th>\n",
              "      <td>6.076389</td>\n",
              "    </tr>\n",
              "    <tr>\n",
              "      <th>Carga excessiva e/ou mal acondicionada</th>\n",
              "      <td>2.145923</td>\n",
              "    </tr>\n",
              "    <tr>\n",
              "      <th>Condutor Dormindo</th>\n",
              "      <td>11.933535</td>\n",
              "    </tr>\n",
              "    <tr>\n",
              "      <th>Defeito Mecânico no Veículo</th>\n",
              "      <td>3.271812</td>\n",
              "    </tr>\n",
              "    <tr>\n",
              "      <th>Defeito na Via</th>\n",
              "      <td>7.594937</td>\n",
              "    </tr>\n",
              "    <tr>\n",
              "      <th>Deficiência ou não Acionamento do Sistema de Iluminação/Sinalização do Veículo</th>\n",
              "      <td>20.000000</td>\n",
              "    </tr>\n",
              "    <tr>\n",
              "      <th>Desobediência às normas de trânsito pelo condutor</th>\n",
              "      <td>9.514095</td>\n",
              "    </tr>\n",
              "    <tr>\n",
              "      <th>Desobediência às normas de trânsito pelo pedestre</th>\n",
              "      <td>29.268293</td>\n",
              "    </tr>\n",
              "    <tr>\n",
              "      <th>Falta de Atenção do Pedestre</th>\n",
              "      <td>34.291010</td>\n",
              "    </tr>\n",
              "    <tr>\n",
              "      <th>Falta de Atenção à Condução</th>\n",
              "      <td>5.314604</td>\n",
              "    </tr>\n",
              "    <tr>\n",
              "      <th>Fenômenos da Natureza</th>\n",
              "      <td>4.511278</td>\n",
              "    </tr>\n",
              "    <tr>\n",
              "      <th>Ingestão de Substâncias Psicoativas</th>\n",
              "      <td>9.433962</td>\n",
              "    </tr>\n",
              "    <tr>\n",
              "      <th>Ingestão de Álcool</th>\n",
              "      <td>6.178560</td>\n",
              "    </tr>\n",
              "    <tr>\n",
              "      <th>Ingestão de álcool e/ou substâncias psicoativas pelo pedestre</th>\n",
              "      <td>6.250000</td>\n",
              "    </tr>\n",
              "    <tr>\n",
              "      <th>Mal Súbito</th>\n",
              "      <td>10.659898</td>\n",
              "    </tr>\n",
              "    <tr>\n",
              "      <th>Não guardar distância de segurança</th>\n",
              "      <td>2.956120</td>\n",
              "    </tr>\n",
              "    <tr>\n",
              "      <th>Objeto estático sobre o leito carroçável</th>\n",
              "      <td>2.888087</td>\n",
              "    </tr>\n",
              "    <tr>\n",
              "      <th>Pista Escorregadia</th>\n",
              "      <td>4.988488</td>\n",
              "    </tr>\n",
              "    <tr>\n",
              "      <th>Restrição de Visibilidade</th>\n",
              "      <td>11.014493</td>\n",
              "    </tr>\n",
              "    <tr>\n",
              "      <th>Sinalização da via insuficiente ou inadequada</th>\n",
              "      <td>10.457516</td>\n",
              "    </tr>\n",
              "    <tr>\n",
              "      <th>Ultrapassagem Indevida</th>\n",
              "      <td>26.378539</td>\n",
              "    </tr>\n",
              "    <tr>\n",
              "      <th>Velocidade Incompatível</th>\n",
              "      <td>12.186573</td>\n",
              "    </tr>\n",
              "  </tbody>\n",
              "</table>\n",
              "</div>"
            ],
            "text/plain": [
              "                                                       Mortos\n",
              "Causa                                                        \n",
              "Agressão Externa                                     4.464286\n",
              "Animais na Pista                                     5.396825\n",
              "Avarias e/ou desgaste excessivo no pneu              6.076389\n",
              "Carga excessiva e/ou mal acondicionada               2.145923\n",
              "Condutor Dormindo                                   11.933535\n",
              "Defeito Mecânico no Veículo                          3.271812\n",
              "Defeito na Via                                       7.594937\n",
              "Deficiência ou não Acionamento do Sistema de Il...  20.000000\n",
              "Desobediência às normas de trânsito pelo condutor    9.514095\n",
              "Desobediência às normas de trânsito pelo pedestre   29.268293\n",
              "Falta de Atenção do Pedestre                        34.291010\n",
              "Falta de Atenção à Condução                          5.314604\n",
              "Fenômenos da Natureza                                4.511278\n",
              "Ingestão de Substâncias Psicoativas                  9.433962\n",
              "Ingestão de Álcool                                   6.178560\n",
              "Ingestão de álcool e/ou substâncias psicoativas...   6.250000\n",
              "Mal Súbito                                          10.659898\n",
              "Não guardar distância de segurança                   2.956120\n",
              "Objeto estático sobre o leito carroçável             2.888087\n",
              "Pista Escorregadia                                   4.988488\n",
              "Restrição de Visibilidade                           11.014493\n",
              "Sinalização da via insuficiente ou inadequada       10.457516\n",
              "Ultrapassagem Indevida                              26.378539\n",
              "Velocidade Incompatível                             12.186573"
            ]
          },
          "metadata": {
            "tags": []
          },
          "execution_count": 135
        }
      ]
    },
    {
      "cell_type": "code",
      "metadata": {
        "id": "fykTdfPiLp_I",
        "colab": {
          "base_uri": "https://localhost:8080/",
          "height": 359
        },
        "outputId": "713978ef-b9f7-43b4-c5a2-41d4012ac6d9"
      },
      "source": [
        "# Analisar a probabilidade de mortes por Condição do tempo\n",
        "\n",
        "df[['Condição Tempo', 'Mortos']].groupby(['Condição Tempo']).mean()*100"
      ],
      "execution_count": null,
      "outputs": [
        {
          "output_type": "execute_result",
          "data": {
            "text/html": [
              "<div>\n",
              "<style scoped>\n",
              "    .dataframe tbody tr th:only-of-type {\n",
              "        vertical-align: middle;\n",
              "    }\n",
              "\n",
              "    .dataframe tbody tr th {\n",
              "        vertical-align: top;\n",
              "    }\n",
              "\n",
              "    .dataframe thead th {\n",
              "        text-align: right;\n",
              "    }\n",
              "</style>\n",
              "<table border=\"1\" class=\"dataframe\">\n",
              "  <thead>\n",
              "    <tr style=\"text-align: right;\">\n",
              "      <th></th>\n",
              "      <th>Mortos</th>\n",
              "    </tr>\n",
              "    <tr>\n",
              "      <th>Condição Tempo</th>\n",
              "      <th></th>\n",
              "    </tr>\n",
              "  </thead>\n",
              "  <tbody>\n",
              "    <tr>\n",
              "      <th>Chuva</th>\n",
              "      <td>9.434400</td>\n",
              "    </tr>\n",
              "    <tr>\n",
              "      <th>Céu Claro</th>\n",
              "      <td>8.170073</td>\n",
              "    </tr>\n",
              "    <tr>\n",
              "      <th>Garoa/Chuvisco</th>\n",
              "      <td>7.605422</td>\n",
              "    </tr>\n",
              "    <tr>\n",
              "      <th>Granizo</th>\n",
              "      <td>100.000000</td>\n",
              "    </tr>\n",
              "    <tr>\n",
              "      <th>Ignorado</th>\n",
              "      <td>8.668076</td>\n",
              "    </tr>\n",
              "    <tr>\n",
              "      <th>Nevoeiro/Neblina</th>\n",
              "      <td>14.772727</td>\n",
              "    </tr>\n",
              "    <tr>\n",
              "      <th>Nublado</th>\n",
              "      <td>7.165726</td>\n",
              "    </tr>\n",
              "    <tr>\n",
              "      <th>Sol</th>\n",
              "      <td>5.896469</td>\n",
              "    </tr>\n",
              "    <tr>\n",
              "      <th>Vento</th>\n",
              "      <td>14.814815</td>\n",
              "    </tr>\n",
              "  </tbody>\n",
              "</table>\n",
              "</div>"
            ],
            "text/plain": [
              "                      Mortos\n",
              "Condição Tempo              \n",
              "Chuva               9.434400\n",
              "Céu Claro           8.170073\n",
              "Garoa/Chuvisco      7.605422\n",
              "Granizo           100.000000\n",
              "Ignorado            8.668076\n",
              "Nevoeiro/Neblina   14.772727\n",
              "Nublado             7.165726\n",
              "Sol                 5.896469\n",
              "Vento              14.814815"
            ]
          },
          "metadata": {
            "tags": []
          },
          "execution_count": 149
        }
      ]
    },
    {
      "cell_type": "code",
      "metadata": {
        "id": "OqyIVpIhCnPf",
        "colab": {
          "base_uri": "https://localhost:8080/",
          "height": 714
        },
        "outputId": "596c1c8b-eb17-4e4d-f9f0-1b904a9e6bf7"
      },
      "source": [
        "#Analisar a probabilidade de mortes por Condição do tempo no grafico\n",
        "fig, (axis1) = plt.subplots(figsize=(20,12))\n",
        "\n",
        "sns.barplot(x='Condição Tempo', y='Mortos', data=df, ax=axis1);"
      ],
      "execution_count": null,
      "outputs": [
        {
          "output_type": "display_data",
          "data": {
            "image/png": "[encoded data removed]",
            "text/plain": [
              "<Figure size 1440x864 with 1 Axes>"
            ]
          },
          "metadata": {
            "tags": [],
            "needs_background": "light"
          }
        }
      ]
    }
  ]
}