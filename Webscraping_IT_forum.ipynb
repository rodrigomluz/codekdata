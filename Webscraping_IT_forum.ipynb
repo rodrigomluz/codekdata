{
  "nbformat": 4,
  "nbformat_minor": 0,
  "metadata": {
    "colab": {
      "name": "Webscraping IT forum.ipynb",
      "provenance": [],
      "collapsed_sections": [],
      "toc_visible": true,
      "mount_file_id": "11BpMCz2jwTWcKE8wu-4C-OszUh5kpVsn",
      "authorship_tag": "ABX9TyOXUvdXH1OFGN0NHpSHRRmM",
      "include_colab_link": true
    },
    "kernelspec": {
      "name": "python3",
      "display_name": "Python 3"
    }
  },
  "cells": [
    {
      "cell_type": "markdown",
      "metadata": {
        "id": "view-in-github",
        "colab_type": "text"
      },
      "source": [
        "<a href=\"https://colab.research.google.com/github/rodrigomluz/webscraping/blob/main/Webscraping_IT_forum.ipynb\" target=\"_parent\"><img src=\"https://colab.research.google.com/assets/colab-badge.svg\" alt=\"Open In Colab\"/></a>"
      ]
    },
    {
      "cell_type": "markdown",
      "metadata": {
        "id": "_feW3j7CuiWa"
      },
      "source": [
        "##projects from upwork."
      ]
    },
    {
      "cell_type": "code",
      "metadata": {
        "id": "tbTAOxSyub9H"
      },
      "source": [
        "#import libraries\n",
        "\n",
        "from bs4 import BeautifulSoup as bs\n",
        "import requests\n",
        "import pandas as pd\n"
      ],
      "execution_count": 3,
      "outputs": []
    },
    {
      "cell_type": "code",
      "metadata": {
        "id": "iVveM5I2AwX0"
      },
      "source": [
        "\n",
        "def extract (link):\n",
        "  headers = {'User-Agent':'Mozilla/5.0 (X11; Linux x86_64) AppleWebKit/537.36 (KHTML, like Gecko) Chrome/87.0.4280.66 Safari/537.36'}\n",
        "  url = f\"https://community.spiceworks.com/networking?sort=recent&page={link}\"\n",
        "  r = requests.get(url, headers)\n",
        "  soup = bs(r.content, 'html.parser' )\n",
        "  #return r.status_code\n",
        "  return soup\n",
        "\n",
        "print(soup)\n",
        "#extract(0)\n"
      ],
      "execution_count": null,
      "outputs": []
    },
    {
      "cell_type": "code",
      "metadata": {
        "id": "-QUPa6r6g-Mm"
      },
      "source": [
        "def transform(soup):\n",
        "  pages = soup.find_all(class_=\"topic media\")\n",
        "  #return len(pages)\n",
        "  for page in pages:\n",
        "    topic_subject = page.find(class_=\"topic-subject\").text.strip()\n",
        "    topic_replies = page.find(class_=\"topic-replies\").text\n",
        "    topic_ranking = page.find(class_=\"topic-ranking\").text\n",
        "    topic_meta = page.find(class_=\"topic-meta\").find(\"span\").text.strip()\n",
        "    topic_profile = page.find(class_=\"topic-meta\").find(class_=\"user profile_link--user profile_link \").text\n",
        "    forum = {\n",
        "    'User':topic_profile, 'Subject':topic_subject, 'Data':topic_meta,\n",
        "    'Replies':topic_replies, 'Spices':topic_ranking\n",
        "    }\n",
        "    #print(forum)\n",
        "\n",
        "\n",
        "  #topic_subject = [page.find(class_=\"topic-subject\").text.strip() for page in pages]\n",
        "  #topic_replies = [page.find(class_=\"topic-replies\").get_text() for page in pages]\n",
        "  #topic_ranking = [page.find(class_=\"topic-ranking\").get_text() for page in pages]\n",
        "  #topic_meta = [page.find(class_=\"topic-meta\").find(\"span\").get_text().strip() for page in pages]\n",
        "  #topic_page_link = [page.find(class_=\"topic-subject\").find(\"a\", href=True).get_text() for page in pages]\n",
        "  #topic_profile = [page.find(class_=\"topic-meta\").find(class_=\"user profile_link--user profile_link \").get_text() for page in pages]\n",
        "    forum_list.append(forum)\n",
        "  \n",
        "  return\n"
      ],
      "execution_count": 77,
      "outputs": []
    },
    {
      "cell_type": "code",
      "metadata": {
        "colab": {
          "base_uri": "https://localhost:8080/",
          "height": 406
        },
        "id": "1pzbUo9aojTe",
        "outputId": "c6f79116-0d9c-45e9-bf90-c9c0ec682e65"
      },
      "source": [
        "\n",
        "\n",
        "forum_list = []\n",
        "for i in range(20):\n",
        "  #print(f'getting page {i}')\n",
        "  c = extract(0)\n",
        "  #print(transform(c))\n",
        "  transform(c)\n",
        "\n",
        "pd.options.display.max_rows\n",
        "df = pd.DataFrame(forum_list)\n",
        "df\n",
        "\n"
      ],
      "execution_count": 88,
      "outputs": [
        {
          "output_type": "execute_result",
          "data": {
            "text/html": [
              "<div>\n",
              "<style scoped>\n",
              "    .dataframe tbody tr th:only-of-type {\n",
              "        vertical-align: middle;\n",
              "    }\n",
              "\n",
              "    .dataframe tbody tr th {\n",
              "        vertical-align: top;\n",
              "    }\n",
              "\n",
              "    .dataframe thead th {\n",
              "        text-align: right;\n",
              "    }\n",
              "</style>\n",
              "<table border=\"1\" class=\"dataframe\">\n",
              "  <thead>\n",
              "    <tr style=\"text-align: right;\">\n",
              "      <th></th>\n",
              "      <th>User</th>\n",
              "      <th>Subject</th>\n",
              "      <th>Data</th>\n",
              "      <th>Replies</th>\n",
              "      <th>Spices</th>\n",
              "    </tr>\n",
              "  </thead>\n",
              "  <tbody>\n",
              "    <tr>\n",
              "      <th>0</th>\n",
              "      <td>Rino21</td>\n",
              "      <td>Odd trace route from our new ISP</td>\n",
              "      <td>Nov 29, 2020 at 16:35 UTC</td>\n",
              "      <td>2 Replies</td>\n",
              "      <td>3 Spice</td>\n",
              "    </tr>\n",
              "    <tr>\n",
              "      <th>1</th>\n",
              "      <td>spicehead-Frak</td>\n",
              "      <td>HP 3600 switch - PoE configuration</td>\n",
              "      <td>Nov 29, 2020 at 16:01 UTC</td>\n",
              "      <td>1 Replies</td>\n",
              "      <td>3 Spice</td>\n",
              "    </tr>\n",
              "    <tr>\n",
              "      <th>2</th>\n",
              "      <td>Vigilant-Citizen</td>\n",
              "      <td>Requested Timeout on Server</td>\n",
              "      <td>Nov 29, 2020 at 07:53 UTC</td>\n",
              "      <td>5 Replies</td>\n",
              "      <td>4 Spice</td>\n",
              "    </tr>\n",
              "    <tr>\n",
              "      <th>3</th>\n",
              "      <td>johnsmith103</td>\n",
              "      <td>Looking for recommendations to backup network ...</td>\n",
              "      <td>Nov 29, 2020 at 01:31 UTC</td>\n",
              "      <td>3 Replies</td>\n",
              "      <td>5 Spice</td>\n",
              "    </tr>\n",
              "    <tr>\n",
              "      <th>4</th>\n",
              "      <td>Rino21</td>\n",
              "      <td>Odd trace route from our new ISP</td>\n",
              "      <td>Nov 29, 2020 at 16:35 UTC</td>\n",
              "      <td>2 Replies</td>\n",
              "      <td>3 Spice</td>\n",
              "    </tr>\n",
              "    <tr>\n",
              "      <th>...</th>\n",
              "      <td>...</td>\n",
              "      <td>...</td>\n",
              "      <td>...</td>\n",
              "      <td>...</td>\n",
              "      <td>...</td>\n",
              "    </tr>\n",
              "    <tr>\n",
              "      <th>275</th>\n",
              "      <td>johnsmith103</td>\n",
              "      <td>Looking for recommendations to backup network ...</td>\n",
              "      <td>Nov 29, 2020 at 01:31 UTC</td>\n",
              "      <td>3 Replies</td>\n",
              "      <td>5 Spice</td>\n",
              "    </tr>\n",
              "    <tr>\n",
              "      <th>276</th>\n",
              "      <td>andrewleer</td>\n",
              "      <td>How to prevent oncall calls in the Cisco Self ...</td>\n",
              "      <td>Nov 29, 2020 at 00:35 UTC</td>\n",
              "      <td>0 Replies</td>\n",
              "      <td>3 Spice</td>\n",
              "    </tr>\n",
              "    <tr>\n",
              "      <th>277</th>\n",
              "      <td>Tamanz</td>\n",
              "      <td>Cisco-Fortinet site to site vpn phase 2 not wo...</td>\n",
              "      <td>Nov 28, 2020 at 21:36 UTC</td>\n",
              "      <td>0 Replies</td>\n",
              "      <td>3 Spice</td>\n",
              "    </tr>\n",
              "    <tr>\n",
              "      <th>278</th>\n",
              "      <td>spicehead-ulzcg</td>\n",
              "      <td>Are Drayteks suitable for small businesses as ...</td>\n",
              "      <td>Nov 28, 2020 at 21:14 UTC</td>\n",
              "      <td>4 Replies</td>\n",
              "      <td>2 Spice</td>\n",
              "    </tr>\n",
              "    <tr>\n",
              "      <th>279</th>\n",
              "      <td>pkinstle</td>\n",
              "      <td>Access database locked</td>\n",
              "      <td>Nov 28, 2020 at 13:08 UTC</td>\n",
              "      <td>2 Replies</td>\n",
              "      <td>4 Spice</td>\n",
              "    </tr>\n",
              "  </tbody>\n",
              "</table>\n",
              "<p>280 rows × 5 columns</p>\n",
              "</div>"
            ],
            "text/plain": [
              "                 User  ...   Spices\n",
              "0              Rino21  ...  3 Spice\n",
              "1      spicehead-Frak  ...  3 Spice\n",
              "2    Vigilant-Citizen  ...  4 Spice\n",
              "3        johnsmith103  ...  5 Spice\n",
              "4              Rino21  ...  3 Spice\n",
              "..                ...  ...      ...\n",
              "275      johnsmith103  ...  5 Spice\n",
              "276        andrewleer  ...  3 Spice\n",
              "277            Tamanz  ...  3 Spice\n",
              "278   spicehead-ulzcg  ...  2 Spice\n",
              "279          pkinstle  ...  4 Spice\n",
              "\n",
              "[280 rows x 5 columns]"
            ]
          },
          "metadata": {
            "tags": []
          },
          "execution_count": 88
        }
      ]
    },
    {
      "cell_type": "code",
      "metadata": {
        "id": "8IYt7ZF3tdOD"
      },
      "source": [
        "df.to_csv('Forum_list.csv')"
      ],
      "execution_count": 89,
      "outputs": []
    }
  ]
}