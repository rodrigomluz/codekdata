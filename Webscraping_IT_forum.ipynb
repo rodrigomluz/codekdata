{
  "nbformat": 4,
  "nbformat_minor": 0,
  "metadata": {
    "colab": {
      "name": "Webscraping IT forum.ipynb",
      "provenance": [],
      "collapsed_sections": [],
      "toc_visible": true,
      "mount_file_id": "11BpMCz2jwTWcKE8wu-4C-OszUh5kpVsn",
      "authorship_tag": "ABX9TyM5sUuc9TjSZUK7/z8Ss+aV",
      "include_colab_link": true
    },
    "kernelspec": {
      "name": "python3",
      "display_name": "Python 3"
    }
  },
  "cells": [
    {
      "cell_type": "markdown",
      "metadata": {
        "id": "view-in-github",
        "colab_type": "text"
      },
      "source": [
        "<a href=\"https://colab.research.google.com/github/rodrigomluz/webscraping/blob/main/Webscraping_IT_forum.ipynb\" target=\"_parent\"><img src=\"https://colab.research.google.com/assets/colab-badge.svg\" alt=\"Open In Colab\"/></a>"
      ]
    },
    {
      "cell_type": "markdown",
      "metadata": {
        "id": "_feW3j7CuiWa"
      },
      "source": [
        "#Projects from upwork. \n",
        "##Scraping a forum from spiceworks website.\n",
        "\n",
        "\n"
      ]
    },
    {
      "cell_type": "code",
      "metadata": {
        "id": "tbTAOxSyub9H"
      },
      "source": [
        "#import libraries\n",
        "\n",
        "from bs4 import BeautifulSoup as bs\n",
        "import requests\n",
        "import pandas as pd\n"
      ],
      "execution_count": 1,
      "outputs": []
    },
    {
      "cell_type": "code",
      "metadata": {
        "id": "iVveM5I2AwX0"
      },
      "source": [
        "\n",
        "# define functions\n",
        "\n",
        "#functions number 1: extract webpage\n",
        "def extract(link):\n",
        "  headers = {'User-Agent':'Mozilla/5.0 (X11; Linux x86_64) AppleWebKit/537.36 (KHTML, like Gecko) Chrome/87.0.4280.66 Safari/537.36'}\n",
        "  url = f\"https://community.spiceworks.com/networking?sort=recent&page={link}\"\n",
        "  r = requests.get(url, headers)\n",
        "  soup = bs(r.content, 'html.parser' )\n",
        "  #return r.status_code\n",
        "  return soup\n",
        "\n",
        "\n",
        "extract(0)\n"
      ],
      "execution_count": null,
      "outputs": []
    },
    {
      "cell_type": "code",
      "metadata": {
        "id": "-QUPa6r6g-Mm"
      },
      "source": [
        "#function number 2:  extract items from the webpage\n",
        "def transform(soup):\n",
        "  topics = soup.find('ul', class_=\"topics\")\n",
        "  pages = topics.find_all(class_=\"topic media\")\n",
        "  #return len(pages)\n",
        "  for page in pages:\n",
        "    topic_subject = page.find(class_=\"topic-subject\").text.strip()\n",
        "    topic_replies = page.find(class_=\"topic-replies\").text\n",
        "    topic_ranking = page.find(class_=\"topic-ranking\").text\n",
        "    topic_meta = page.find(class_=\"topic-meta\").find(\"span\").text.strip()\n",
        "    try:\n",
        "      topic_profile = page.find(class_=\"topic-meta\").find(class_=\"user profile_link--user profile_link \").text\n",
        "    except:\n",
        "      topic_profile = ''  \n",
        "    topic_meta_forum = page.find(class_=\"topic-meta\").find(class_=\"topic-meta-forum\").find('a').text.strip()\n",
        "\n",
        "    forum = {\n",
        "    'User':topic_profile, 'Subject':topic_subject, 'Forum':topic_meta_forum, 'Data':topic_meta,\n",
        "    'Replies':topic_replies, 'Spices':topic_ranking\n",
        "    }\n",
        "    #print(forum)\n",
        "\n",
        "  \n",
        "  \n",
        "    forum_list.append(forum)\n",
        "  \n",
        "  return\n"
      ],
      "execution_count": 55,
      "outputs": []
    },
    {
      "cell_type": "code",
      "metadata": {
        "colab": {
          "base_uri": "https://localhost:8080/"
        },
        "id": "1pzbUo9aojTe",
        "outputId": "f21dc40c-c20d-4856-d5e1-36ed69a25ec4"
      },
      "source": [
        "\n",
        "#geting multiple pages\n",
        "\n",
        "\n",
        "forum_list = []\n",
        "for i in range(1, 15):\n",
        "  print(f'getting page {i}')\n",
        "  c = extract(i)\n",
        "  #print(transform(c))\n",
        "  transform(c)\n",
        "\n",
        "pd.options.display.max_rows\n",
        "df = pd.DataFrame(forum_list)\n",
        "\n",
        "\n"
      ],
      "execution_count": 56,
      "outputs": [
        {
          "output_type": "stream",
          "text": [
            "getting page 1\n",
            "getting page 2\n",
            "getting page 3\n",
            "getting page 4\n",
            "getting page 5\n",
            "getting page 6\n",
            "getting page 7\n",
            "getting page 8\n",
            "getting page 9\n",
            "getting page 10\n",
            "getting page 11\n",
            "getting page 12\n",
            "getting page 13\n",
            "getting page 14\n"
          ],
          "name": "stdout"
        }
      ]
    },
    {
      "cell_type": "code",
      "metadata": {
        "colab": {
          "base_uri": "https://localhost:8080/",
          "height": 406
        },
        "id": "_0Ao_aA0fiJW",
        "outputId": "15c2d877-8b51-4889-c4c7-25f5be35fbcf"
      },
      "source": [
        "df\n"
      ],
      "execution_count": 66,
      "outputs": [
        {
          "output_type": "execute_result",
          "data": {
            "text/html": [
              "<div>\n",
              "<style scoped>\n",
              "    .dataframe tbody tr th:only-of-type {\n",
              "        vertical-align: middle;\n",
              "    }\n",
              "\n",
              "    .dataframe tbody tr th {\n",
              "        vertical-align: top;\n",
              "    }\n",
              "\n",
              "    .dataframe thead th {\n",
              "        text-align: right;\n",
              "    }\n",
              "</style>\n",
              "<table border=\"1\" class=\"dataframe\">\n",
              "  <thead>\n",
              "    <tr style=\"text-align: right;\">\n",
              "      <th></th>\n",
              "      <th>User</th>\n",
              "      <th>Subject</th>\n",
              "      <th>Forum</th>\n",
              "      <th>Data</th>\n",
              "      <th>Replies</th>\n",
              "      <th>Spices</th>\n",
              "    </tr>\n",
              "  </thead>\n",
              "  <tbody>\n",
              "    <tr>\n",
              "      <th>0</th>\n",
              "      <td>Stefan X</td>\n",
              "      <td>VPN Net and Home Net are in the same IP range</td>\n",
              "      <td>General Networking</td>\n",
              "      <td>Nov 30, 2020 at 07:45 UTC</td>\n",
              "      <td>5 Replies</td>\n",
              "      <td>7 Spice</td>\n",
              "    </tr>\n",
              "    <tr>\n",
              "      <th>1</th>\n",
              "      <td>MAVER</td>\n",
              "      <td>Convert voice vlan to data only</td>\n",
              "      <td>Cisco</td>\n",
              "      <td>Nov 30, 2020 at 03:29 UTC</td>\n",
              "      <td>3 Replies</td>\n",
              "      <td>5 Spice</td>\n",
              "    </tr>\n",
              "    <tr>\n",
              "      <th>2</th>\n",
              "      <td>DYRyet</td>\n",
              "      <td>WAP placement opinions</td>\n",
              "      <td>Wireless</td>\n",
              "      <td>Nov 30, 2020 at 01:57 UTC</td>\n",
              "      <td>4 Replies</td>\n",
              "      <td>7 Spice</td>\n",
              "    </tr>\n",
              "    <tr>\n",
              "      <th>3</th>\n",
              "      <td>federicodatahjelposlo</td>\n",
              "      <td>SSH firewall port forwarding</td>\n",
              "      <td>General Networking</td>\n",
              "      <td>Nov 29, 2020 at 23:22 UTC</td>\n",
              "      <td>3 Replies</td>\n",
              "      <td>7 Spice</td>\n",
              "    </tr>\n",
              "    <tr>\n",
              "      <th>4</th>\n",
              "      <td>Shabbaranks.</td>\n",
              "      <td>Routing SSL VPN clients via Sonicwall for spec...</td>\n",
              "      <td>SonicWALL</td>\n",
              "      <td>Nov 29, 2020 at 20:35 UTC</td>\n",
              "      <td>2 Replies</td>\n",
              "      <td>2 Spice</td>\n",
              "    </tr>\n",
              "    <tr>\n",
              "      <th>...</th>\n",
              "      <td>...</td>\n",
              "      <td>...</td>\n",
              "      <td>...</td>\n",
              "      <td>...</td>\n",
              "      <td>...</td>\n",
              "      <td>...</td>\n",
              "    </tr>\n",
              "    <tr>\n",
              "      <th>135</th>\n",
              "      <td>philip.weissv</td>\n",
              "      <td>Change Access Points from static to DHCP</td>\n",
              "      <td>Wireless</td>\n",
              "      <td>Nov 17, 2020 at 17:51 UTC</td>\n",
              "      <td>16 Replies</td>\n",
              "      <td>8 Spice</td>\n",
              "    </tr>\n",
              "    <tr>\n",
              "      <th>136</th>\n",
              "      <td>Commander-Riker</td>\n",
              "      <td>Rukus Unleashed Project</td>\n",
              "      <td>Wireless</td>\n",
              "      <td>Nov 17, 2020 at 16:23 UTC</td>\n",
              "      <td>1 Replies</td>\n",
              "      <td>6 Spice</td>\n",
              "    </tr>\n",
              "    <tr>\n",
              "      <th>137</th>\n",
              "      <td>robertodelav</td>\n",
              "      <td>Suspicious network traffic from centos machine...</td>\n",
              "      <td>General Linux</td>\n",
              "      <td>Nov 17, 2020 at 14:58 UTC</td>\n",
              "      <td>5 Replies</td>\n",
              "      <td>6 Spice</td>\n",
              "    </tr>\n",
              "    <tr>\n",
              "      <th>138</th>\n",
              "      <td>HCostas</td>\n",
              "      <td>VPN options</td>\n",
              "      <td>Remote Support</td>\n",
              "      <td>Nov 17, 2020 at 13:41 UTC</td>\n",
              "      <td>12 Replies</td>\n",
              "      <td>4 Spice</td>\n",
              "    </tr>\n",
              "    <tr>\n",
              "      <th>139</th>\n",
              "      <td>blc-harrisoncostas</td>\n",
              "      <td>VPN options</td>\n",
              "      <td>General Networking</td>\n",
              "      <td>Nov 17, 2020 at 13:27 UTC</td>\n",
              "      <td>8 Replies</td>\n",
              "      <td>11 Spice</td>\n",
              "    </tr>\n",
              "  </tbody>\n",
              "</table>\n",
              "<p>140 rows × 6 columns</p>\n",
              "</div>"
            ],
            "text/plain": [
              "                      User  ...    Spices\n",
              "0                 Stefan X  ...   7 Spice\n",
              "1                    MAVER  ...   5 Spice\n",
              "2                   DYRyet  ...   7 Spice\n",
              "3    federicodatahjelposlo  ...   7 Spice\n",
              "4             Shabbaranks.  ...   2 Spice\n",
              "..                     ...  ...       ...\n",
              "135          philip.weissv  ...   8 Spice\n",
              "136        Commander-Riker  ...   6 Spice\n",
              "137           robertodelav  ...   6 Spice\n",
              "138                HCostas  ...   4 Spice\n",
              "139     blc-harrisoncostas  ...  11 Spice\n",
              "\n",
              "[140 rows x 6 columns]"
            ]
          },
          "metadata": {
            "tags": []
          },
          "execution_count": 66
        }
      ]
    },
    {
      "cell_type": "code",
      "metadata": {
        "id": "8IYt7ZF3tdOD"
      },
      "source": [
        "df.to_csv('Forum_list.csv')"
      ],
      "execution_count": 67,
      "outputs": []
    }
  ]
}