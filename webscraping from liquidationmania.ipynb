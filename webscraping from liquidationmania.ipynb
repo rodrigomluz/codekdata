{
  "nbformat": 4,
  "nbformat_minor": 0,
  "metadata": {
    "colab": {
      "name": "liquidationmania.ipynb",
      "provenance": [],
      "authorship_tag": "ABX9TyNvnEQ4vKhFttTOGXI1bDin",
      "include_colab_link": true
    },
    "kernelspec": {
      "name": "python3",
      "display_name": "Python 3"
    }
  },
  "cells": [
    {
      "cell_type": "markdown",
      "metadata": {
        "id": "view-in-github",
        "colab_type": "text"
      },
      "source": [
        "<a href=\"https://colab.research.google.com/github/rodrigomluz/webscraping/blob/main/webscraping%20from%20liquidationmania.ipynb\" target=\"_parent\"><img src=\"https://colab.research.google.com/assets/colab-badge.svg\" alt=\"Open In Colab\"/></a>"
      ]
    },
    {
      "cell_type": "code",
      "metadata": {
        "id": "rxMlxOyqDHSb"
      },
      "source": [
        "from bs4 import BeautifulSoup as bs\n",
        "import pandas as pd\n",
        "import requests"
      ],
      "execution_count": 1,
      "outputs": []
    },
    {
      "cell_type": "code",
      "metadata": {
        "id": "-DLUCjsxDkup"
      },
      "source": [
        "r =  requests.get(\"https://www.liquidationmania.com/Listing/Details/3912017/Paw-Patrol-Blue-Red-Yellow-2-in-1-Switcher-Skates-Size-Y8Y11-AMCN\")\n",
        "soup = bs(r.text, \"html.parser\")\n",
        "\n",
        "print(soup)"
      ],
      "execution_count": null,
      "outputs": []
    },
    {
      "cell_type": "code",
      "metadata": {
        "colab": {
          "base_uri": "https://localhost:8080/",
          "height": 127
        },
        "id": "uxsgvkwJEQR6",
        "outputId": "9052da27-bae1-4cbd-c9fd-1baaefc8ab16"
      },
      "source": [
        "\n",
        "topic = soup.find(\"div\", class_=\"col-xs-12 col-md-5\")\n",
        "\n",
        "title = topic.find(\"h3\", class_=\"awe-listing-detail-title-sm-xs\").text\n",
        "sub_title = topic.find(\"h4\").text\n",
        "\n",
        "panel_body = soup.find(\"div\", class_=\"panel-body description\")\n",
        "description = panel_body.find(\"p\").text\n",
        "\n",
        "#image = soup.find(\"img\", class_=\"img-responsive full\")['src']\n",
        "images = soup.find(\"div\", class_=\"panel panel-default\")\n",
        "image = images.find_all(\"img\")\n",
        "\n",
        "for img in image:\n",
        "  im = ['https://www.liquidationmania.com/' + img['src']]\n",
        "  print(im)\n",
        "\n",
        "\n",
        "liquidation = {\"Title\":title, \"Subtitle\":sub_title, \"Description\":description, \"Image\":im}\n",
        "\n",
        "df = pd.DataFrame(liquidation)\n",
        "\n",
        "\n",
        "\n",
        "\n",
        "  \n",
        "\n",
        "#print(image)\n",
        "\n",
        "\n",
        "df\n",
        "\n",
        "\n",
        "\n",
        "\n",
        "#print(f\"Title:{title}\\nSubtitle:{sub_title}\\nDescription:{description}\\nImage:{image}\")\n",
        "\n"
      ],
      "execution_count": 11,
      "outputs": [
        {
          "output_type": "stream",
          "text": [
            "['https://www.liquidationmania.com/Content/listingImages/20201202/b1358b80-2997-4e9e-940d-4b6c93accffb_fullsize.jpg']\n",
            "['https://www.liquidationmania.com/Content/listingImages/20201202/b1358b80-2997-4e9e-940d-4b6c93accffb_thumbcrop.jpg']\n",
            "['https://www.liquidationmania.com/Content/listingImages/20201202/abb85ebc-82ae-46eb-859e-28b944b8602f_thumbcrop.jpg']\n"
          ],
          "name": "stdout"
        },
        {
          "output_type": "execute_result",
          "data": {
            "text/html": [
              "<div>\n",
              "<style scoped>\n",
              "    .dataframe tbody tr th:only-of-type {\n",
              "        vertical-align: middle;\n",
              "    }\n",
              "\n",
              "    .dataframe tbody tr th {\n",
              "        vertical-align: top;\n",
              "    }\n",
              "\n",
              "    .dataframe thead th {\n",
              "        text-align: right;\n",
              "    }\n",
              "</style>\n",
              "<table border=\"1\" class=\"dataframe\">\n",
              "  <thead>\n",
              "    <tr style=\"text-align: right;\">\n",
              "      <th></th>\n",
              "      <th>Title</th>\n",
              "      <th>Subtitle</th>\n",
              "      <th>Description</th>\n",
              "      <th>Image</th>\n",
              "    </tr>\n",
              "  </thead>\n",
              "  <tbody>\n",
              "    <tr>\n",
              "      <th>0</th>\n",
              "      <td>Paw Patrol Blue Red Yellow 2 in 1 Switcher Ska...</td>\n",
              "      <td>New Open Box</td>\n",
              "      <td>Perfect for both summer and winter! Roller bla...</td>\n",
              "      <td>https://www.liquidationmania.com/Content/listi...</td>\n",
              "    </tr>\n",
              "  </tbody>\n",
              "</table>\n",
              "</div>"
            ],
            "text/plain": [
              "                                               Title  ...                                              Image\n",
              "0  Paw Patrol Blue Red Yellow 2 in 1 Switcher Ska...  ...  https://www.liquidationmania.com/Content/listi...\n",
              "\n",
              "[1 rows x 4 columns]"
            ]
          },
          "metadata": {
            "tags": []
          },
          "execution_count": 11
        }
      ]
    },
    {
      "cell_type": "code",
      "metadata": {
        "id": "YmGDAlbtqH9C"
      },
      "source": [
        "\n",
        "for img in image:\n",
        "  link = img['src']\n",
        "  name = img['src']\n",
        "  with open(name.replace(' ','-').replace('/', '') + '.jpg', 'wb') as f:\n",
        "    im = requests.get('https://www.liquidationmania.com/' + link)\n",
        "    f.write(im.content)\n",
        "\n",
        "\n",
        "    df.to_csv('LIQUIDATIONMANIA.xlsl')"
      ],
      "execution_count": 13,
      "outputs": []
    }
  ]
}